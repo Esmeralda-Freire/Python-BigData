{
  "nbformat": 4,
  "nbformat_minor": 0,
  "metadata": {
    "colab": {
      "provenance": []
    },
    "kernelspec": {
      "name": "python3",
      "display_name": "Python 3"
    },
    "language_info": {
      "name": "python"
    }
  },
  "cells": [
    {
      "cell_type": "code",
      "execution_count": 6,
      "metadata": {
        "id": "HNc0CRZnevNp"
      },
      "outputs": [],
      "source": [
        "import pandas as pd"
      ]
    },
    {
      "cell_type": "code",
      "source": [
        "import numpy as pd"
      ],
      "metadata": {
        "id": "lqOj29effYzA"
      },
      "execution_count": 3,
      "outputs": []
    },
    {
      "cell_type": "code",
      "source": [
        "dictExtensaoNatural = {'2010' : 5895239,\n",
        "                       '2012' : 5572092,\n",
        "                       '2014' : 5504286,\n",
        "                       '2016' : 5458842,\n",
        "                       '2018' : 5424524,\n",
        "                       '2020' : 5405300\n",
        "}"
      ],
      "metadata": {
        "id": "1mdYBWyOiimq"
      },
      "execution_count": 4,
      "outputs": []
    },
    {
      "cell_type": "code",
      "source": [
        "serie1 = pd.Series(dictExtensaoNatural)\n",
        "serie1"
      ],
      "metadata": {
        "colab": {
          "base_uri": "https://localhost:8080/"
        },
        "id": "C4fNM3_zl0fC",
        "outputId": "0ac2a6c8-8a87-4443-ec8a-706b38b91ac8"
      },
      "execution_count": 7,
      "outputs": [
        {
          "output_type": "execute_result",
          "data": {
            "text/plain": [
              "2010    5895239\n",
              "2012    5572092\n",
              "2014    5504286\n",
              "2016    5458842\n",
              "2018    5424524\n",
              "2020    5405300\n",
              "dtype: int64"
            ]
          },
          "metadata": {},
          "execution_count": 7
        }
      ]
    },
    {
      "cell_type": "code",
      "source": [
        "anos = [    '2010',\n",
        "            '2012',\n",
        "            '2014',\n",
        "            '2016',\n",
        "            '2018',\n",
        "            '2020']"
      ],
      "metadata": {
        "id": "06S8PMB8m6T5"
      },
      "execution_count": 8,
      "outputs": []
    },
    {
      "cell_type": "code",
      "source": [
        "territorio = [ 5895239,\n",
        "               5572092,\n",
        "               5504286,\n",
        "               5458842,\n",
        "               5424524,\n",
        "               5405300]"
      ],
      "metadata": {
        "id": "ZsfhcTn7ncSy"
      },
      "execution_count": 9,
      "outputs": []
    },
    {
      "cell_type": "code",
      "source": [
        "serie2 = pd.Series(territorio, index=anos)\n",
        "serie2"
      ],
      "metadata": {
        "colab": {
          "base_uri": "https://localhost:8080/"
        },
        "id": "AiaXhlz7nuFZ",
        "outputId": "f6473ad5-713e-4817-98ee-8758b97fbb88"
      },
      "execution_count": 10,
      "outputs": [
        {
          "output_type": "execute_result",
          "data": {
            "text/plain": [
              "2010    5895239\n",
              "2012    5572092\n",
              "2014    5504286\n",
              "2016    5458842\n",
              "2018    5424524\n",
              "2020    5405300\n",
              "dtype: int64"
            ]
          },
          "metadata": {},
          "execution_count": 10
        }
      ]
    },
    {
      "cell_type": "code",
      "source": [
        "import matplotlib.pyplot as plt\n"
      ],
      "metadata": {
        "id": "WxqDcdF-oGMp"
      },
      "execution_count": 11,
      "outputs": []
    },
    {
      "cell_type": "code",
      "source": [
        "serie2.plot()"
      ],
      "metadata": {
        "colab": {
          "base_uri": "https://localhost:8080/",
          "height": 462
        },
        "id": "1KTh-c3HoK2o",
        "outputId": "6ab88137-ca26-4a04-c4cb-ddbf6810b450"
      },
      "execution_count": 12,
      "outputs": [
        {
          "output_type": "execute_result",
          "data": {
            "text/plain": [
              "<Axes: >"
            ]
          },
          "metadata": {},
          "execution_count": 12
        },
        {
          "output_type": "display_data",
          "data": {
            "text/plain": [
              "<Figure size 640x480 with 1 Axes>"
            ],
            "image/png": "[encoded data removed]"
          },
          "metadata": {}
        }
      ]
    },
    {
      "cell_type": "code",
      "source": [
        "#O uso da terra nos biomas brasileiros\n",
        "#https://www.ibge.gov.br/geociencias/informacoes-ambientais/estudos-ambientais/28920-contas-de-ecossistemas.html?edicao=28921&t=acesso-ao-produto\n",
        "#Analisando o gráfico, entende-se que a extensão de áreas naturais no território brasileiro vem diminuindo, o que implica a significante crescente na utilização de terra nos biomas brasileiros."
      ],
      "metadata": {
        "id": "g6sPu5VOovtI"
      },
      "execution_count": null,
      "outputs": []
    }
  ]
}